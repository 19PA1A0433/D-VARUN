{
  "nbformat": 4,
  "nbformat_minor": 0,
  "metadata": {
    "colab": {
      "name": "varun.ipynb",
      "provenance": [],
      "authorship_tag": "ABX9TyNbPt971h6a53BLKZptG2Po",
      "include_colab_link": true
    },
    "kernelspec": {
      "name": "python3",
      "display_name": "Python 3"
    }
  },
  "cells": [
    {
      "cell_type": "markdown",
      "metadata": {
        "id": "view-in-github",
        "colab_type": "text"
      },
      "source": [
        "<a href=\"https://colab.research.google.com/github/19PA1A0433/D-VARUN/blob/master/varun.ipynb\" target=\"_parent\"><img src=\"https://colab.research.google.com/assets/colab-badge.svg\" alt=\"Open In Colab\"/></a>"
      ]
    },
    {
      "cell_type": "code",
      "metadata": {
        "id": "t9vBiyPDkaE3",
        "colab_type": "code",
        "colab": {
          "base_uri": "https://localhost:8080/",
          "height": 68
        },
        "outputId": "bd21816f-954b-4ba7-91c1-edac0767adce"
      },
      "source": [
        "#greatest of 2 num\n",
        "a=int(input(\"enter the a value:\"))\n",
        "b=int(input(\"enter the b value:\"))\n",
        "if a>b:\n",
        "  print(\"a is larger\")\n",
        "else:\n",
        "  print(\"b is larger\")\n",
        "\n"
      ],
      "execution_count": 4,
      "outputs": [
        {
          "output_type": "stream",
          "text": [
            "enter the a value:4\n",
            "enter the b value:5\n",
            "b is larger\n"
          ],
          "name": "stdout"
        }
      ]
    },
    {
      "cell_type": "code",
      "metadata": {
        "id": "5f9rfEKkmcL9",
        "colab_type": "code",
        "colab": {
          "base_uri": "https://localhost:8080/",
          "height": 85
        },
        "outputId": "a551b6de-36a0-4ee0-9590-4eda4e27285f"
      },
      "source": [
        " n=10\n",
        " for i in range(1,n):\n",
        "  if (i%2==0):\n",
        "   print(\"even num =\",i )\n"
      ],
      "execution_count": 7,
      "outputs": [
        {
          "output_type": "stream",
          "text": [
            "even num = 2\n",
            "even num = 4\n",
            "even num = 6\n",
            "even num = 8\n"
          ],
          "name": "stdout"
        }
      ]
    },
    {
      "cell_type": "code",
      "metadata": {
        "id": "F8QXBT5b4QQ8",
        "colab_type": "code",
        "colab": {
          "base_uri": "https://localhost:8080/",
          "height": 102
        },
        "outputId": "59e59c25-2e01-428a-e15f-66b0858b28c4"
      },
      "source": [
        "n=10\n",
        "for i in range(1,n):\n",
        "  if (i%2!=0):\n",
        "   print(\"odd num=\",i)\n",
        "  "
      ],
      "execution_count": 9,
      "outputs": [
        {
          "output_type": "stream",
          "text": [
            "odd num= 1\n",
            "odd num= 3\n",
            "odd num= 5\n",
            "odd num= 7\n",
            "odd num= 9\n"
          ],
          "name": "stdout"
        }
      ]
    }
  ]
}